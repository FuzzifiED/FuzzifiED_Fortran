{
 "cells": [
  {
   "cell_type": "code",
   "execution_count": 5,
   "metadata": {},
   "outputs": [
    {
     "name": "stdout",
     "output_type": "stream",
     "text": [
      " Diagonisation begins.\n",
      " Diagonisation successful, total iteration :           63\n"
     ]
    },
    {
     "data": {
      "text/plain": [
       "6-element Vector{ComplexF64}:\n",
       "   -2.0000000000000027 + 1.6682595295138535e-17im\n",
       "   -1.9842294026289602 - 2.8809855078042794e-17im\n",
       "    -1.937166322257262 + 1.3168416712121946e-17im\n",
       "    -1.859552971776501 - 3.081305273167631e-18im\n",
       "    -1.752613360087732 - 4.74458895661725e-17im\n",
       " 6.53741878362165e-310 + 6.5374175294182e-310im"
      ]
     },
     "metadata": {},
     "output_type": "display_data"
    }
   ],
   "source": [
    "mylib = \"../src/libfuzzified.so\"\n",
    "dimd = 50\n",
    "sym_q = 0\n",
    "nel = 100\n",
    "colptr = collect(1 : 2 : 101)\n",
    "rowid = vcat([[i == 50 ? 1 : i + 1, i == 1 ? 50 : i - 1] for i = 1 : dimd ]...)\n",
    "elval = fill(ComplexF64(1), nel)\n",
    "nst = 5 \n",
    "tol = 1E-8 \n",
    "ncv = 15 \n",
    "disp_std = true\n",
    "eigval = Vector{ComplexF64}(undef, nst + 1)\n",
    "eigvec = Matrix{ComplexF64}(undef, dimd, nst)\n",
    "num_th = 1\n",
    "@ccall mylib.__diag_MOD_diagonalisation(dimd :: Ref{Int64}, sym_q :: Ref{Int64}, nel :: Ref{Int64}, colptr :: Ref{Int64}, rowid :: Ref{Int64}, elval :: Ref{ComplexF64}, nst :: Ref{Int64}, tol :: Ref{Float64}, ncv :: Ref{Int64}, eigval :: Ref{ComplexF64}, eigvec :: Ref{ComplexF64}, num_th :: Ref{Int64}, (disp_std ? 1 : 0) :: Ref{Int64}) :: Nothing\n",
    "display(eigval) ;"
   ]
  },
  {
   "cell_type": "code",
   "execution_count": 6,
   "metadata": {},
   "outputs": [
    {
     "name": "stdout",
     "output_type": "stream",
     "text": [
      " Diagonisation begins.\n",
      " Diagonisation finish, total iteration :           63\n"
     ]
    },
    {
     "data": {
      "text/plain": [
       "6-element Vector{Float64}:\n",
       " -1.9999999999999996\n",
       " -1.9842294026289569\n",
       " -1.9371663222572542\n",
       " -1.8595529717765011\n",
       " -1.752613360087722\n",
       "  2.0e-323"
      ]
     },
     "metadata": {},
     "output_type": "display_data"
    }
   ],
   "source": [
    "mylib = \"../src/libfuzzified.so\"\n",
    "dimd = 50\n",
    "sym_q = 0\n",
    "nel = 100\n",
    "colptr = collect(1 : 2 : 101)\n",
    "rowid = vcat([[i == 50 ? 1 : i + 1, i == 1 ? 50 : i - 1] for i = 1 : dimd ]...)\n",
    "elval = fill(Float64(1), nel)\n",
    "nst = 5 \n",
    "tol = 1E-8 \n",
    "ncv = 15 \n",
    "disp_std = true\n",
    "eigval = Vector{Float64}(undef, nst + 1)\n",
    "eigvec = Matrix{Float64}(undef, dimd, nst)\n",
    "num_th = 1\n",
    "@ccall mylib.__diag_re_MOD_diagonalisation_re(dimd :: Ref{Int64}, sym_q :: Ref{Int64}, nel :: Ref{Int64}, colptr :: Ref{Int64}, rowid :: Ref{Int64}, elval :: Ref{Float64}, nst :: Ref{Int64}, tol :: Ref{Float64}, ncv :: Ref{Int64}, eigval :: Ref{Float64}, eigvec :: Ref{Float64}, num_th :: Ref{Int64}, (disp_std ? 1 : 0) :: Ref{Int64}) :: Nothing\n",
    "display(eigval) ;"
   ]
  }
 ],
 "metadata": {
  "kernelspec": {
   "display_name": "Julia (8 threads) 1.11.1",
   "language": "julia",
   "name": "julia-_8-threads_-1.11"
  },
  "language_info": {
   "file_extension": ".jl",
   "mimetype": "application/julia",
   "name": "julia",
   "version": "1.11.1"
  }
 },
 "nbformat": 4,
 "nbformat_minor": 2
}
